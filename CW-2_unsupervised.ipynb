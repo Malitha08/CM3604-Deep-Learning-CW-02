{
 "cells": [
  {
   "cell_type": "code",
   "execution_count": null,
   "metadata": {},
   "outputs": [],
   "source": [
    "# Adding necessary import\n",
    "\n",
    "import sklearn\n",
    "import keras\n",
    "import sys\n",
    "import tensorflow as tf\n",
    "import numpy as np\n",
    "import os\n",
    "import matplotlib.pyplot as plt\n",
    "from sklearn.cluster import MiniBatchKMeans\n",
    "from sklearn.cluster import KMeans\n",
    "from sklearn.metrics import accuracy_score, confusion_matrix, normalized_mutual_info_score\n",
    "from sklearn.model_selection import train_test_split\n",
    "from sklearn.metrics import classification_report\n",
    "from keras.datasets import mnist\n",
    "from keras.models import Sequential\n",
    "from keras.layers import Dense, Dropout, Conv2D, MaxPool2D, UpSampling2D, Activation\n",
    "from keras import backend as K\n"
   ]
  },
  {
   "cell_type": "code",
   "execution_count": null,
   "metadata": {},
   "outputs": [],
   "source": [
    "# loading the dataset \n",
    "(x_train, y_train),(x_test, y_test)=tf.keras.datasets.fashion_mnist.load_data()\n",
    "x=np.concatenate((x_train, x_test))\n",
    "y=np.concatenate((y_train, y_test))\n",
    "print(x.shape)\n",
    "x=x_train.reshape((x_train.shape[0],-1))\n",
    "x=np.divide(x.astype(float),255)\n",
    "kmeans = KMeans(n_clusters = 10)\n",
    "kmeans.fit(x)"
   ]
  },
  {
   "cell_type": "code",
   "execution_count": null,
   "metadata": {},
   "outputs": [],
   "source": [
    "# k-means labeling \n",
    "def infer_cluster_labels(kmeans, actual_labels):\n",
    "    inferred_labels = {}\n",
    "    for i in range(kmeans.n_clusters):\n",
    "        labels = []\n",
    "        index = np.where(kmeans.labels_ == i)\n",
    "        labels.append(actual_labels[index])\n",
    "        if len(labels[0]) == 1:\n",
    "            counts = np.bincount(labels[0])\n",
    "        else:\n",
    "            counts = np.bincount(np.squeeze(labels))\n",
    "        if np.argmax(counts) in inferred_labels:\n",
    "            inferred_labels[np.argmax(counts)].append(i)\n",
    "        else:\n",
    "            inferred_labels[np.argmax(counts)] = [i]      \n",
    "    return inferred_labels  \n",
    "\n",
    "def infer_data_labels(X_labels, cluster_labels):\n",
    "    predicted_labels = np.zeros(len(X_labels)).astype(np.uint8)    \n",
    "    for i, cluster in enumerate(X_labels):\n",
    "        for key, value in cluster_labels.items():\n",
    "            if cluster in value:\n",
    "                predicted_labels[i] = key\n",
    "                \n",
    "    return predicted_labels"
   ]
  },
  {
   "cell_type": "code",
   "execution_count": null,
   "metadata": {},
   "outputs": [],
   "source": [
    "#Normalizing the \n",
    "x_train=x_train.reshape(-1,28,28,1)/255\n",
    "x_test=x_test.reshape(-1,28,28,1)/255\n",
    "x_train, x_validate, y_train, y_validate = train_test_split(x_train, y_train, test_size=0.2, stratify=y_train, random_state=123)"
   ]
  },
  {
   "cell_type": "code",
   "execution_count": null,
   "metadata": {},
   "outputs": [],
   "source": [
    "#Auto Encoder using K-Means clustering\n",
    "from keras.layers import Input, Dense\n",
    "from keras.models import Model\n",
    "from keras.optimizers import SGD\n",
    "model = Sequential()\n",
    "model.add(Conv2D(14, kernel_size=3, padding='same', activation='relu', input_shape=(28,28,1)))\n",
    "model.add(MaxPool2D((2,2), padding='same'))\n",
    "model.add(Dropout(0.2))\n",
    "model.add(Conv2D(7, kernel_size=3, padding='same', activation='relu'))\n",
    "model.add(MaxPool2D((2,2), padding='same'))\n",
    "model.add(Dropout(0.2))\n",
    "model.add(Conv2D(7, kernel_size=3, padding='same', activation='relu'))\n",
    "model.add(UpSampling2D((2,2)))\n",
    "model.add(Dropout(0.2))\n",
    "model.add(Conv2D(14, kernel_size=3, padding='same', activation='relu'))\n",
    "model.add(UpSampling2D((2,2)))\n",
    "model.add(Dropout(0.2))\n",
    "model.add(Conv2D(1, kernel_size=3, padding='same', activation='relu'))\n",
    "model.compile(optimizer=SGD(0.01,0.9), loss=\"mse\", metrics=['accuracy'])\n",
    "model.summary()"
   ]
  },
  {
   "cell_type": "code",
   "execution_count": null,
   "metadata": {},
   "outputs": [],
   "source": [
    "history_AE=model.fit(x_train, x_train, epochs=10, batch_size=256, validation_data=(x_validate, x_validate), verbose=1)"
   ]
  },
  {
   "cell_type": "code",
   "execution_count": null,
   "metadata": {},
   "outputs": [],
   "source": [
    "def lossPlot():\n",
    "    trainingLoss,=plt.plot(history_AE.history['loss'],\"r--\")\n",
    "    validationLoss,=plt.plot(history_AE.history['val_loss'],\"b--\")\n",
    "    q=plt.legend([trainingLoss,validationLoss],[\"Training Loss\",\"Validation Loss\"])\n",
    "    plt.xlabel(\"Epoch\")\n",
    "    plt.ylabel(\"Loss\")\n",
    "    plt.title(\"Training Loss & Validation Loss vs Number of Epochs Graph\")\n",
    "    plt.show()\n",
    "lossPlot()"
   ]
  },
  {
   "cell_type": "code",
   "execution_count": null,
   "metadata": {},
   "outputs": [],
   "source": [
    "encoder = K.function([model.layers[0].input], [model.layers[4].output])\n",
    "encoded_images = encoder([x_test])[0].reshape(-1,7*7*7)\n",
    "kmeans_afterencoder_AE = KMeans(n_clusters=10)\n",
    "clustered_set_AE = kmeans_afterencoder_AE.fit_predict(encoded_images)\n",
    "cmKMeans = confusion_matrix(y_test, clustered_set_AE)\n",
    "print(cmKMeans)"
   ]
  },
  {
   "cell_type": "code",
   "execution_count": null,
   "metadata": {},
   "outputs": [],
   "source": [
    "kmeans_afterencoder_AE.fit(encoded_images)\n",
    "calculate_metrics(kmeans_afterencoder_AE, encoded_images, y_test)\n",
    "cluster_labels_AE = infer_cluster_labels(kmeans_afterencoder_AE, y_test)\n",
    "predicted_Y_AE = infer_data_labels(kmeans_afterencoder_AE.labels_, cluster_labels_AE)\n",
    "print('Auto Encoder using K-Means clustering Accuracy: {}\\n'.format(metrics.accuracy_score(y_test, predicted_Y_AE)))"
   ]
  }
 ],
 "metadata": {
  "kernelspec": {
   "display_name": "Python 3",
   "language": "python",
   "name": "python3"
  },
  "language_info": {
   "name": "python",
   "version": "3.9.7 (default, Jun 27 2022, 23:25:00) \n[Clang 13.1.6 (clang-1316.0.21.2.5)]"
  },
  "orig_nbformat": 4,
  "vscode": {
   "interpreter": {
    "hash": "9d8408dc480075e2039c6acca2bc3a233d5b259cada6abff183c4b20726df9f6"
   }
  }
 },
 "nbformat": 4,
 "nbformat_minor": 2
}
